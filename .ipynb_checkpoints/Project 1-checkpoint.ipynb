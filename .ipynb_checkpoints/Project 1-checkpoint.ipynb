{
 "cells": [
  {
   "cell_type": "code",
   "execution_count": 1,
   "id": "675d4e8b-2b1d-4c79-85e0-f1e88b45a1de",
   "metadata": {},
   "outputs": [],
   "source": [
    "%matplotlib notebook"
   ]
  },
  {
   "cell_type": "code",
   "execution_count": 7,
   "id": "0b322c0b-faa6-4cdc-9105-e290f65bac9c",
   "metadata": {},
   "outputs": [],
   "source": [
    "import pandas as pd\n",
    "import os\n",
    "import matplotlib.pyplot as plt\n",
    "import plotly.express as px\n",
    "import scipy.stats as sts\n",
    "#from pandas_profiling import ProfileReport"
   ]
  },
  {
   "cell_type": "code",
   "execution_count": 19,
   "id": "ab31e776-a2b8-4167-a57e-56237aaddf4c",
   "metadata": {},
   "outputs": [],
   "source": [
    "path = os.path.join(\"Resources\")\n",
    "df_list = []\n",
    "for file in os.listdir(path):\n",
    "    name = str(file[:4]) + \"_df\"\n",
    "    df_list.append(name)\n",
    "    name = pd.read_csv(os.path.join(\"Resources\", file))"
   ]
  },
  {
   "cell_type": "code",
   "execution_count": 20,
   "id": "6210ecd2-f3a2-42dc-b313-04e83b7f80a9",
   "metadata": {},
   "outputs": [
    {
     "data": {
      "text/plain": [
       "['2020_df', '2019_df', '2018_df', '2015_df', '2016_df', '2017_df']"
      ]
     },
     "execution_count": 20,
     "metadata": {},
     "output_type": "execute_result"
    }
   ],
   "source": [
    "df_list"
   ]
  },
  {
   "cell_type": "code",
   "execution_count": null,
   "id": "214edce1-9660-4d5d-864e-3aa714d50b13",
   "metadata": {},
   "outputs": [],
   "source": []
  }
 ],
 "metadata": {
  "kernelspec": {
   "display_name": "Python 3",
   "language": "python",
   "name": "python3"
  },
  "language_info": {
   "codemirror_mode": {
    "name": "ipython",
    "version": 3
   },
   "file_extension": ".py",
   "mimetype": "text/x-python",
   "name": "python",
   "nbconvert_exporter": "python",
   "pygments_lexer": "ipython3",
   "version": "3.8.5"
  }
 },
 "nbformat": 4,
 "nbformat_minor": 5
}
