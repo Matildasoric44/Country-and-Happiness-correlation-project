{
 "cells": [
  {
   "cell_type": "code",
   "execution_count": 1,
   "id": "675d4e8b-2b1d-4c79-85e0-f1e88b45a1de",
   "metadata": {},
   "outputs": [],
   "source": [
    "%matplotlib notebook"
   ]
  },
  {
   "cell_type": "code",
   "execution_count": 2,
   "id": "0b322c0b-faa6-4cdc-9105-e290f65bac9c",
   "metadata": {},
   "outputs": [],
   "source": [
    "import pandas as pd\n",
    "import os\n",
    "import matplotlib.pyplot as plt\n",
    "import plotly.express as px\n",
    "import scipy.stats as sts\n",
    "from pandas_profiling import ProfileReport"
   ]
  },
  {
   "cell_type": "code",
   "execution_count": 3,
   "id": "ab31e776-a2b8-4167-a57e-56237aaddf4c",
   "metadata": {},
   "outputs": [],
   "source": [
    "path = os.path.join(\"Resources\")\n",
    "df_dict = {}\n",
    "for file in os.listdir(path):\n",
    "    name = \"df_\"  +  str(file[:4])\n",
    "    df_dict[name] = pd.read_csv(os.path.join(\"Resources\", file))"
   ]
  },
  {
   "cell_type": "code",
   "execution_count": 5,
   "id": "6210ecd2-f3a2-42dc-b313-04e83b7f80a9",
   "metadata": {},
   "outputs": [],
   "source": [
    "#loading the datasets into their respective variables\n",
    "df_2020 = df_dict[\"df_2020\"]\n",
    "df_2019 = df_dict[\"df_2019\"]\n",
    "df_2018 = df_dict[\"df_2018\"]\n",
    "df_2017 = df_dict[\"df_2017\"]\n",
    "df_2016 = df_dict[\"df_2016\"]\n",
    "df_2015 = df_dict[\"df_2018\"]"
   ]
  },
  {
   "cell_type": "markdown",
   "id": "b08a311a-838c-4038-9522-720472499f72",
   "metadata": {},
   "source": [
    "# Organizing the Data\n",
    "The datasets, though they point to generally the same things, have differences in the naming of their columns. Some datasets tend to have data that isn't present in other datasets. We rename the columns according to the 2019 naming convention, since that dataset has the least number of columns."
   ]
  },
  {
   "cell_type": "code",
   "execution_count": 7,
   "id": "6db94472-2596-4d19-907c-9d2a39e161b4",
   "metadata": {},
   "outputs": [
    {
     "data": {
      "text/html": [
       "<div>\n",
       "<style scoped>\n",
       "    .dataframe tbody tr th:only-of-type {\n",
       "        vertical-align: middle;\n",
       "    }\n",
       "\n",
       "    .dataframe tbody tr th {\n",
       "        vertical-align: top;\n",
       "    }\n",
       "\n",
       "    .dataframe thead th {\n",
       "        text-align: right;\n",
       "    }\n",
       "</style>\n",
       "<table border=\"1\" class=\"dataframe\">\n",
       "  <thead>\n",
       "    <tr style=\"text-align: right;\">\n",
       "      <th></th>\n",
       "      <th>Overall rank</th>\n",
       "      <th>Country</th>\n",
       "      <th>Score</th>\n",
       "      <th>GDP per capita</th>\n",
       "      <th>Social support</th>\n",
       "      <th>Healthy life expectancy</th>\n",
       "      <th>Freedom to make life choices</th>\n",
       "      <th>Generosity</th>\n",
       "      <th>Perceptions of corruption</th>\n",
       "    </tr>\n",
       "  </thead>\n",
       "  <tbody>\n",
       "    <tr>\n",
       "      <th>0</th>\n",
       "      <td>1</td>\n",
       "      <td>Finland</td>\n",
       "      <td>7.769</td>\n",
       "      <td>1.340</td>\n",
       "      <td>1.587</td>\n",
       "      <td>0.986</td>\n",
       "      <td>0.596</td>\n",
       "      <td>0.153</td>\n",
       "      <td>0.393</td>\n",
       "    </tr>\n",
       "    <tr>\n",
       "      <th>1</th>\n",
       "      <td>2</td>\n",
       "      <td>Denmark</td>\n",
       "      <td>7.600</td>\n",
       "      <td>1.383</td>\n",
       "      <td>1.573</td>\n",
       "      <td>0.996</td>\n",
       "      <td>0.592</td>\n",
       "      <td>0.252</td>\n",
       "      <td>0.410</td>\n",
       "    </tr>\n",
       "    <tr>\n",
       "      <th>2</th>\n",
       "      <td>3</td>\n",
       "      <td>Norway</td>\n",
       "      <td>7.554</td>\n",
       "      <td>1.488</td>\n",
       "      <td>1.582</td>\n",
       "      <td>1.028</td>\n",
       "      <td>0.603</td>\n",
       "      <td>0.271</td>\n",
       "      <td>0.341</td>\n",
       "    </tr>\n",
       "    <tr>\n",
       "      <th>3</th>\n",
       "      <td>4</td>\n",
       "      <td>Iceland</td>\n",
       "      <td>7.494</td>\n",
       "      <td>1.380</td>\n",
       "      <td>1.624</td>\n",
       "      <td>1.026</td>\n",
       "      <td>0.591</td>\n",
       "      <td>0.354</td>\n",
       "      <td>0.118</td>\n",
       "    </tr>\n",
       "    <tr>\n",
       "      <th>4</th>\n",
       "      <td>5</td>\n",
       "      <td>Netherlands</td>\n",
       "      <td>7.488</td>\n",
       "      <td>1.396</td>\n",
       "      <td>1.522</td>\n",
       "      <td>0.999</td>\n",
       "      <td>0.557</td>\n",
       "      <td>0.322</td>\n",
       "      <td>0.298</td>\n",
       "    </tr>\n",
       "  </tbody>\n",
       "</table>\n",
       "</div>"
      ],
      "text/plain": [
       "   Overall rank      Country  Score  GDP per capita  Social support  \\\n",
       "0             1      Finland  7.769           1.340           1.587   \n",
       "1             2      Denmark  7.600           1.383           1.573   \n",
       "2             3       Norway  7.554           1.488           1.582   \n",
       "3             4      Iceland  7.494           1.380           1.624   \n",
       "4             5  Netherlands  7.488           1.396           1.522   \n",
       "\n",
       "   Healthy life expectancy  Freedom to make life choices  Generosity  \\\n",
       "0                    0.986                         0.596       0.153   \n",
       "1                    0.996                         0.592       0.252   \n",
       "2                    1.028                         0.603       0.271   \n",
       "3                    1.026                         0.591       0.354   \n",
       "4                    0.999                         0.557       0.322   \n",
       "\n",
       "   Perceptions of corruption  \n",
       "0                      0.393  \n",
       "1                      0.410  \n",
       "2                      0.341  \n",
       "3                      0.118  \n",
       "4                      0.298  "
      ]
     },
     "execution_count": 7,
     "metadata": {},
     "output_type": "execute_result"
    }
   ],
   "source": [
    "df_2019.rename(columns={\"Country or region\": \"Country\"}, inplace=True)\n",
    "df_2019.head()"
   ]
  },
  {
   "cell_type": "code",
   "execution_count": 9,
   "id": "8da0b5a9-2fcb-4885-9ab6-9c9fb74cfa64",
   "metadata": {},
   "outputs": [
    {
     "data": {
      "text/html": [
       "<div>\n",
       "<style scoped>\n",
       "    .dataframe tbody tr th:only-of-type {\n",
       "        vertical-align: middle;\n",
       "    }\n",
       "\n",
       "    .dataframe tbody tr th {\n",
       "        vertical-align: top;\n",
       "    }\n",
       "\n",
       "    .dataframe thead th {\n",
       "        text-align: right;\n",
       "    }\n",
       "</style>\n",
       "<table border=\"1\" class=\"dataframe\">\n",
       "  <thead>\n",
       "    <tr style=\"text-align: right;\">\n",
       "      <th></th>\n",
       "      <th>Overall rank</th>\n",
       "      <th>Country</th>\n",
       "      <th>Score</th>\n",
       "      <th>GDP per capita</th>\n",
       "      <th>Social support</th>\n",
       "      <th>Healthy life expectancy</th>\n",
       "      <th>Freedom to make life choices</th>\n",
       "      <th>Generosity</th>\n",
       "      <th>Perceptions of corruption</th>\n",
       "    </tr>\n",
       "  </thead>\n",
       "  <tbody>\n",
       "    <tr>\n",
       "      <th>0</th>\n",
       "      <td>1</td>\n",
       "      <td>Finland</td>\n",
       "      <td>7.632</td>\n",
       "      <td>1.305</td>\n",
       "      <td>1.592</td>\n",
       "      <td>0.874</td>\n",
       "      <td>0.681</td>\n",
       "      <td>0.202</td>\n",
       "      <td>0.393</td>\n",
       "    </tr>\n",
       "    <tr>\n",
       "      <th>1</th>\n",
       "      <td>2</td>\n",
       "      <td>Norway</td>\n",
       "      <td>7.594</td>\n",
       "      <td>1.456</td>\n",
       "      <td>1.582</td>\n",
       "      <td>0.861</td>\n",
       "      <td>0.686</td>\n",
       "      <td>0.286</td>\n",
       "      <td>0.340</td>\n",
       "    </tr>\n",
       "    <tr>\n",
       "      <th>2</th>\n",
       "      <td>3</td>\n",
       "      <td>Denmark</td>\n",
       "      <td>7.555</td>\n",
       "      <td>1.351</td>\n",
       "      <td>1.590</td>\n",
       "      <td>0.868</td>\n",
       "      <td>0.683</td>\n",
       "      <td>0.284</td>\n",
       "      <td>0.408</td>\n",
       "    </tr>\n",
       "    <tr>\n",
       "      <th>3</th>\n",
       "      <td>4</td>\n",
       "      <td>Iceland</td>\n",
       "      <td>7.495</td>\n",
       "      <td>1.343</td>\n",
       "      <td>1.644</td>\n",
       "      <td>0.914</td>\n",
       "      <td>0.677</td>\n",
       "      <td>0.353</td>\n",
       "      <td>0.138</td>\n",
       "    </tr>\n",
       "    <tr>\n",
       "      <th>4</th>\n",
       "      <td>5</td>\n",
       "      <td>Switzerland</td>\n",
       "      <td>7.487</td>\n",
       "      <td>1.420</td>\n",
       "      <td>1.549</td>\n",
       "      <td>0.927</td>\n",
       "      <td>0.660</td>\n",
       "      <td>0.256</td>\n",
       "      <td>0.357</td>\n",
       "    </tr>\n",
       "  </tbody>\n",
       "</table>\n",
       "</div>"
      ],
      "text/plain": [
       "   Overall rank      Country  Score  GDP per capita  Social support  \\\n",
       "0             1      Finland  7.632           1.305           1.592   \n",
       "1             2       Norway  7.594           1.456           1.582   \n",
       "2             3      Denmark  7.555           1.351           1.590   \n",
       "3             4      Iceland  7.495           1.343           1.644   \n",
       "4             5  Switzerland  7.487           1.420           1.549   \n",
       "\n",
       "   Healthy life expectancy  Freedom to make life choices  Generosity  \\\n",
       "0                    0.874                         0.681       0.202   \n",
       "1                    0.861                         0.686       0.286   \n",
       "2                    0.868                         0.683       0.284   \n",
       "3                    0.914                         0.677       0.353   \n",
       "4                    0.927                         0.660       0.256   \n",
       "\n",
       "   Perceptions of corruption  \n",
       "0                      0.393  \n",
       "1                      0.340  \n",
       "2                      0.408  \n",
       "3                      0.138  \n",
       "4                      0.357  "
      ]
     },
     "execution_count": 9,
     "metadata": {},
     "output_type": "execute_result"
    }
   ],
   "source": [
    "#Making changes to the 2015 Dataset\n",
    "df_2015.rename(columns={\"Country or region\": \"Country\"}, inplace=True)\n",
    "df_2015.head()"
   ]
  },
  {
   "cell_type": "code",
   "execution_count": 13,
   "id": "2a251e5b-6a9c-4227-8241-036cbaef42ed",
   "metadata": {},
   "outputs": [
    {
     "data": {
      "text/plain": [
       "Index(['Country', 'Overall Rank', 'Score', 'GDP per capita', 'Social support',\n",
       "       'Healthy life expectancy', 'Freedom to make life choices',\n",
       "       'Perceptions of corruption', 'Generosity'],\n",
       "      dtype='object')"
      ]
     },
     "execution_count": 13,
     "metadata": {},
     "output_type": "execute_result"
    }
   ],
   "source": [
    "column_renames_2016 = {\"Happiness Score\": \"Score\",\"Happiness Rank\": \"Overall Rank\",\"Economy (GDP per Capita)\": \"GDP per capita\", \"Family\": \"Social support\", \"Freedom\": \"Freedom to make life choices\", \"Health (Life Expectancy)\": \"Healthy life expectancy\", \"Trust (Government Corruption)\": \"Perceptions of corruption\"}\n",
    "df_2016.rename(columns=column_renames_2016, inplace=True)\n",
    "df_2016.drop(columns=[\"Region\", \"Lower Confidence Interval\", \"Upper Confidence Interval\", \"Dystopia Residual\"], inplace=True)\n",
    "df_2016.columns\n"
   ]
  },
  {
   "cell_type": "code",
   "execution_count": 16,
   "id": "052c9024-308f-4bc5-b13e-a3461249da93",
   "metadata": {},
   "outputs": [
    {
     "data": {
      "text/plain": [
       "Index(['Country', 'Overall Rank', 'Score', 'Whisker.high', 'Whisker.low',\n",
       "       'GDP per capita', 'Social support', 'Healthy life expectancy',\n",
       "       'Freedom to make life choices', 'Generosity',\n",
       "       'Perceptions of corruption', 'Dystopia.Residual'],\n",
       "      dtype='object')"
      ]
     },
     "execution_count": 16,
     "metadata": {},
     "output_type": "execute_result"
    }
   ],
   "source": [
    "column_renames_2017 = {\"Happiness.Rank\": \"Overall Rank\",\"Happiness.Score\": \"Score\", \"Economy..GDP.per.Capita.\": \"GDP per capita\", \"Family\": \"Social support\", \"Health..Life.Expectancy.\": \"Healthy life expectancy\",\"Freedom\": \"Freedom to make life choices\", \"Trust..Government.Corruption.\":\"Perceptions of corruption\"}\n",
    "df_2017.rename(columns=column_renames_2017, inplace=True)\n",
    "df_2017.drop(columns=[\"Whisker.high\", \"Whisker.low\", \"Dystopia.Residual\"])\n",
    "df_2017.columns"
   ]
  },
  {
   "cell_type": "code",
   "execution_count": 18,
   "id": "d36aade1-9275-4a87-9c3a-72537b83d264",
   "metadata": {},
   "outputs": [
    {
     "data": {
      "text/plain": [
       "Index(['Country name', 'Regional indicator', 'Ladder score',\n",
       "       'Standard error of ladder score', 'upperwhisker', 'lowerwhisker',\n",
       "       'Logged GDP per capita', 'Social support', 'Healthy life expectancy',\n",
       "       'Freedom to make life choices', 'Generosity',\n",
       "       'Perceptions of corruption', 'Ladder score in Dystopia',\n",
       "       'Explained by: Log GDP per capita', 'Explained by: Social support',\n",
       "       'Explained by: Healthy life expectancy',\n",
       "       'Explained by: Freedom to make life choices',\n",
       "       'Explained by: Generosity', 'Explained by: Perceptions of corruption',\n",
       "       'Dystopia + residual'],\n",
       "      dtype='object')"
      ]
     },
     "execution_count": 18,
     "metadata": {},
     "output_type": "execute_result"
    }
   ],
   "source": [
    "#we shall discuss this on Monday\n",
    "df_2020.columns"
   ]
  },
  {
   "cell_type": "code",
   "execution_count": null,
   "id": "be6c3f47-e480-4a8a-88e4-cde1523dd66e",
   "metadata": {},
   "outputs": [],
   "source": []
  }
 ],
 "metadata": {
  "kernelspec": {
   "display_name": "Python 3 (ipykernel)",
   "language": "python",
   "name": "python3"
  },
  "language_info": {
   "codemirror_mode": {
    "name": "ipython",
    "version": 3
   },
   "file_extension": ".py",
   "mimetype": "text/x-python",
   "name": "python",
   "nbconvert_exporter": "python",
   "pygments_lexer": "ipython3",
   "version": "3.8.5"
  }
 },
 "nbformat": 4,
 "nbformat_minor": 5
}
