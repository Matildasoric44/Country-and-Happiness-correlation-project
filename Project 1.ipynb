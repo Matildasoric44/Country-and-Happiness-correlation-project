{
 "cells": [
  {
   "cell_type": "code",
   "execution_count": 2,
   "id": "675d4e8b-2b1d-4c79-85e0-f1e88b45a1de",
   "metadata": {},
   "outputs": [],
   "source": [
    "%matplotlib notebook"
   ]
  },
  {
   "cell_type": "code",
   "execution_count": 6,
   "id": "0b322c0b-faa6-4cdc-9105-e290f65bac9c",
   "metadata": {},
   "outputs": [
    {
     "ename": "SyntaxError",
     "evalue": "invalid syntax (<ipython-input-6-e1e87afda80e>, line 2)",
     "output_type": "error",
     "traceback": [
      "\u001b[1;36m  File \u001b[1;32m\"<ipython-input-6-e1e87afda80e>\"\u001b[1;36m, line \u001b[1;32m2\u001b[0m\n\u001b[1;33m    pip install pandas-profiling\u001b[0m\n\u001b[1;37m        ^\u001b[0m\n\u001b[1;31mSyntaxError\u001b[0m\u001b[1;31m:\u001b[0m invalid syntax\n"
     ]
    }
   ],
   "source": [
    "import pandas as pd\n",
    "pip install pandas-profiling\n",
    "import os\n",
    "import matplotlib.pyplot as plt\n",
    "import plotly.express as px\n",
    "import scipy.stats as sts\n",
    "from pandas_profiling import ProfileReport"
   ]
  },
  {
   "cell_type": "code",
   "execution_count": null,
   "id": "ab31e776-a2b8-4167-a57e-56237aaddf4c",
   "metadata": {},
   "outputs": [],
   "source": [
    "path = os.path.join(\"Resources\")\n",
    "df_list = []\n",
    "for file in os.listdir(path):\n",
    "    name = \"df_\"  +  str(file[:4])\n",
    "    df_list.append(name)\n",
    "    name = pd.read_csv(os.path.join(\"Resources\", file))"
   ]
  },
  {
   "cell_type": "code",
   "execution_count": null,
   "id": "6210ecd2-f3a2-42dc-b313-04e83b7f80a9",
   "metadata": {},
   "outputs": [],
   "source": [
    "df_2015.head()"
   ]
  },
  {
   "cell_type": "code",
   "execution_count": null,
   "id": "214edce1-9660-4d5d-864e-3aa714d50b13",
   "metadata": {},
   "outputs": [],
   "source": []
  }
 ],
 "metadata": {
  "kernelspec": {
   "display_name": "Python 3",
   "language": "python",
   "name": "python3"
  },
  "language_info": {
   "codemirror_mode": {
    "name": "ipython",
    "version": 3
   },
   "file_extension": ".py",
   "mimetype": "text/x-python",
   "name": "python",
   "nbconvert_exporter": "python",
   "pygments_lexer": "ipython3",
   "version": "3.8.8"
  }
 },
 "nbformat": 4,
 "nbformat_minor": 5
}
